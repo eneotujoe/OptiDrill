{
 "cells": [
  {
   "cell_type": "code",
   "execution_count": 1,
   "metadata": {},
   "outputs": [],
   "source": [
    "# Import Libraries\n",
    "import math\n",
    "import numpy as np\n",
    "import pandas as pd"
   ]
  },
  {
   "cell_type": "code",
   "execution_count": null,
   "metadata": {},
   "outputs": [],
   "source": []
  },
  {
   "cell_type": "code",
   "execution_count": null,
   "metadata": {},
   "outputs": [],
   "source": []
  },
  {
   "cell_type": "code",
   "execution_count": null,
   "metadata": {},
   "outputs": [],
   "source": []
  },
  {
   "cell_type": "code",
   "execution_count": null,
   "metadata": {},
   "outputs": [],
   "source": []
  },
  {
   "cell_type": "code",
   "execution_count": null,
   "metadata": {},
   "outputs": [],
   "source": []
  },
  {
   "cell_type": "markdown",
   "metadata": {},
   "source": [
    "# Home"
   ]
  },
  {
   "cell_type": "markdown",
   "metadata": {},
   "source": [
    "##### About"
   ]
  },
  {
   "cell_type": "markdown",
   "metadata": {},
   "source": [
    "# Unit Conversion calculator\n",
    "\n"
   ]
  },
  {
   "cell_type": "markdown",
   "metadata": {},
   "source": [
    "### Length"
   ]
  },
  {
   "cell_type": "markdown",
   "metadata": {},
   "source": [
    "### Area Conversion"
   ]
  },
  {
   "cell_type": "markdown",
   "metadata": {},
   "source": [
    "### Volume Conversion"
   ]
  },
  {
   "cell_type": "markdown",
   "metadata": {},
   "source": [
    "### Weight Conversion"
   ]
  },
  {
   "cell_type": "markdown",
   "metadata": {},
   "source": [
    "### Pressure Conversion"
   ]
  },
  {
   "cell_type": "markdown",
   "metadata": {},
   "source": [
    "### Temperature Conversion"
   ]
  },
  {
   "cell_type": "markdown",
   "metadata": {},
   "source": [
    "### Density Conversion"
   ]
  },
  {
   "cell_type": "markdown",
   "metadata": {},
   "source": [
    "### Velocity Conversion"
   ]
  },
  {
   "cell_type": "markdown",
   "metadata": {},
   "source": [
    "### Flowrate Conversion"
   ]
  },
  {
   "cell_type": "markdown",
   "metadata": {},
   "source": [
    "### Power Conversion"
   ]
  },
  {
   "cell_type": "markdown",
   "metadata": {},
   "source": [
    "# Mud Pump"
   ]
  },
  {
   "cell_type": "markdown",
   "metadata": {},
   "source": [
    "### Duplex Pump\n",
    "\n",
    "###### Input: \n",
    "1. Liner Diameter (inch)\n",
    "2. Rod Diameter (inch)\n",
    "3. Stroke length (inch)\n",
    "4. Efficiency (%)\n",
    "5. Pump rate (stk/min)\n",
    "\n",
    "##### Output: \n",
    "1. Pump Output (bbl/stk)\n",
    "2. Flow rate (gpm)"
   ]
  },
  {
   "cell_type": "code",
   "execution_count": null,
   "metadata": {},
   "outputs": [],
   "source": [
    "linerDiameter = \n",
    "rodDiameter =\n",
    "strokeLength =\n",
    "efficiency =\n",
    "pumpRate ="
   ]
  },
  {
   "cell_type": "code",
   "execution_count": null,
   "metadata": {},
   "outputs": [],
   "source": [
    "duplexPumpOutput = 0.000162 * strokeLength * (2 * (linerDiameter**2 - rodDiameter**2) * efficiency)"
   ]
  },
  {
   "cell_type": "code",
   "execution_count": null,
   "metadata": {},
   "outputs": [],
   "source": [
    "duplexFlowrate = 42 * pumpOutput * pumpRate"
   ]
  },
  {
   "cell_type": "markdown",
   "metadata": {},
   "source": [
    "### Triplex Pump\n",
    "##### Input:\n",
    "1. Liner Diameter (inch)\n",
    "2. Stroke length (inch)   \n",
    "3. Efficiency (%)   \n",
    "4. Pump rate (stk/min)\n",
    "#####  Output:\n",
    "1. Pump Output (bbl/stk)\n",
    "2. Flowrate (gal per minute or gpm) "
   ]
  },
  {
   "cell_type": "code",
   "execution_count": null,
   "metadata": {},
   "outputs": [],
   "source": [
    "linerDiameter = \n",
    "strokeLength = \n",
    "efficiency = \n",
    "pumpRate = "
   ]
  },
  {
   "cell_type": "code",
   "execution_count": null,
   "metadata": {},
   "outputs": [],
   "source": [
    "triplexPumpOutput = 0.000243 * linerDiameter**2 * strokeLength * efficiency"
   ]
  },
  {
   "cell_type": "code",
   "execution_count": null,
   "metadata": {},
   "outputs": [],
   "source": [
    "triplexFlowrate = 42 * pumpOutput * pumpRate"
   ]
  },
  {
   "cell_type": "code",
   "execution_count": null,
   "metadata": {},
   "outputs": [],
   "source": []
  },
  {
   "cell_type": "markdown",
   "metadata": {},
   "source": [
    "# Horizontal Drilling Optimization"
   ]
  },
  {
   "cell_type": "markdown",
   "metadata": {},
   "source": [
    "###### Input:\n",
    "1. RPM (rpm)\n",
    "2. WOB (lbm)\n",
    "3. Impact force (lbf)\n",
    "4. Flowrate (gpm)\n",
    "5. Hole Cleaning (either good or bad)\n",
    "6. ECD (ppg)\n",
    "\n",
    "##### Output:\n",
    "1. ROP (ft/hr)"
   ]
  },
  {
   "cell_type": "markdown",
   "metadata": {},
   "source": [
    "##### Hole Cleaning Equations:"
   ]
  },
  {
   "cell_type": "code",
   "execution_count": null,
   "metadata": {},
   "outputs": [],
   "source": [
    "sqrHoleID =\n",
    "sqrPipeOD =\n",
    "plasticViscosity =\n",
    "yieldPoint =\n",
    "mudWeight =\n",
    "flowrate = "
   ]
  },
  {
   "cell_type": "code",
   "execution_count": null,
   "metadata": {},
   "outputs": [],
   "source": [
    "# Annular Capacity (gal/ft)\n",
    "annularCapacity = (sqrHoleID - sqrPipeOD) / 24.51"
   ]
  },
  {
   "cell_type": "code",
   "execution_count": null,
   "metadata": {},
   "outputs": [],
   "source": [
    "# Annular Velocity (ft/min)\n",
    "annularVelocity = flowrate / annularCapacity"
   ]
  },
  {
   "cell_type": "code",
   "execution_count": null,
   "metadata": {},
   "outputs": [],
   "source": [
    "# Flow behaviour index - n\n",
    "n = 3.322 * math.log(((2 * plasticViscosity) + yieldPoint)/ (plasticViscosity + yieldPoint))"
   ]
  },
  {
   "cell_type": "code",
   "execution_count": null,
   "metadata": {},
   "outputs": [],
   "source": [
    "# Power Law Constant - K (unitless)\n",
    "K = (511)**(1-n) * (plasticViscosity + yieldPoint)"
   ]
  },
  {
   "cell_type": "code",
   "execution_count": null,
   "metadata": {},
   "outputs": [],
   "source": [
    "# Carrying Capacity Index - CCI (unitless)\n",
    "CCI = (K * annularVelocity * mudWeight) / 400000"
   ]
  },
  {
   "cell_type": "code",
   "execution_count": null,
   "metadata": {},
   "outputs": [],
   "source": [
    "if CCI >= 1.0:\n",
    "    print('Hole Cleaning is Good')\n",
    "elif CCI <= 0.5:\n",
    "    print('Hole Cleaning is Poor')\n"
   ]
  },
  {
   "cell_type": "markdown",
   "metadata": {},
   "source": [
    "# Drilling Cost Analysis"
   ]
  },
  {
   "cell_type": "markdown",
   "metadata": {},
   "source": [
    "##### Input:\n",
    "1. Bit Cost(USD)\n",
    "2. ROP (ft/hr)\n",
    "3. Footage drilled (ft)\n",
    "4. Round trip (hr)\n",
    "5. Footage Drilled\n",
    "6. Rig Cost per hour (USD/hr)\n",
    "\n",
    "##### Output:\n",
    "1. Drilled Cost per foot (USD/ft)\n"
   ]
  },
  {
   "cell_type": "code",
   "execution_count": null,
   "metadata": {},
   "outputs": [],
   "source": [
    "bitCost = \n",
    "rigCostPerHour =\n",
    "roundTrip = \n",
    "ROP = \n",
    "footageDrilled = "
   ]
  },
  {
   "cell_type": "code",
   "execution_count": null,
   "metadata": {},
   "outputs": [],
   "source": [
    "drilledCostPerFoot = (bitCost + rigCostPerHour * ((footageDrill / ROP) + roundTrip)) / footageDrilled"
   ]
  },
  {
   "cell_type": "code",
   "execution_count": null,
   "metadata": {},
   "outputs": [],
   "source": []
  }
 ],
 "metadata": {
  "kernelspec": {
   "display_name": "Python 3",
   "language": "python",
   "name": "python3"
  },
  "language_info": {
   "codemirror_mode": {
    "name": "ipython",
    "version": 3
   },
   "file_extension": ".py",
   "mimetype": "text/x-python",
   "name": "python",
   "nbconvert_exporter": "python",
   "pygments_lexer": "ipython3",
   "version": "3.7.3"
  }
 },
 "nbformat": 4,
 "nbformat_minor": 2
}
